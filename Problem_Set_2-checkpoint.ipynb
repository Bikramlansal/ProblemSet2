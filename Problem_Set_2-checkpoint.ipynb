{
 "cells": [
  {
   "cell_type": "markdown",
   "id": "ed319eb4",
   "metadata": {},
   "source": [
    "#  Problem Set - 2 \n",
    "\n",
    "Performed by: Bikram Lamsal\n",
    "\n",
    "Student ID: 200575238"
   ]
  },
  {
   "cell_type": "markdown",
   "id": "a705d48b",
   "metadata": {},
   "source": [
    "# Q.1"
   ]
  },
  {
   "cell_type": "code",
   "execution_count": 296,
   "id": "e55c7a0d",
   "metadata": {},
   "outputs": [],
   "source": [
    "# assigns the value '0' to global variable 'a'\n",
    "a = 0 \n",
    "\n",
    "def b():\n",
    "    # declares 'a' inside the function 'b' that refers to global variable 'a' \n",
    "    global a\n",
    "    \n",
    "    # calls the function 'c' declared later in the program with current value of 'a' as argument.\n",
    "    a = c(a)\n",
    "    \n",
    "def c(a):\n",
    "    # returns the value of 'a' added with 2 every time the function is called.\n",
    "    return a + 2\n"
   ]
  },
  {
   "cell_type": "code",
   "execution_count": 297,
   "id": "771ac054",
   "metadata": {},
   "outputs": [],
   "source": [
    "b()"
   ]
  },
  {
   "cell_type": "code",
   "execution_count": 298,
   "id": "51c7588c",
   "metadata": {},
   "outputs": [
    {
     "data": {
      "text/plain": [
       "2"
      ]
     },
     "execution_count": 298,
     "metadata": {},
     "output_type": "execute_result"
    }
   ],
   "source": [
    "a"
   ]
  },
  {
   "cell_type": "markdown",
   "id": "018fd397",
   "metadata": {},
   "source": [
    "<h4> Program Breakdown - Explanation</h4>\n",
    "\n",
    "Line 1: a = 0: assigns the value '0' to global variable 'a'<br>\n",
    "\n",
    "Line 2: def b(): defines a function 'b'<br>\n",
    "\n",
    "Line 3: global a: declares 'a' inside the function 'b' that refers to global variable 'a' defined previously.<br>\n",
    "\n",
    "Line 4: a = c(a): this calls the function 'c' declared later in the program with current value of 'a' as argument.<br>\n",
    "\n",
    "Line 5: def c(a): defines a function named 'c' that takes 'a' as parameter. <br>\n",
    "\n",
    "Line 6: return a+2: returns the value of 'a' added with 2 every time the function is called. <br><br>\n",
    "\n",
    "Hence, when function 'b' is called three times, function 'c' is called each time so, the value of a kept on increasing from 0 to 2 in the first call, 2 to 4 in the second call and 4 to 6 in the third call. As the global variable 'a' has been updated in every iteration, the output for 'a' has been displayed as '6' when the last expression was executed. "
   ]
  },
  {
   "cell_type": "markdown",
   "id": "d614d425",
   "metadata": {},
   "source": [
    "<br>"
   ]
  },
  {
   "cell_type": "markdown",
   "id": "f285824c",
   "metadata": {},
   "source": [
    "# Q.2"
   ]
  },
  {
   "cell_type": "code",
   "execution_count": 299,
   "id": "6ad0e555",
   "metadata": {},
   "outputs": [],
   "source": [
    "def file_length(file_name):\n",
    "    try:\n",
    "        # open the file and read its content\n",
    "        file = open(file_name)\n",
    "        \n",
    "        # store the contents in the variable\n",
    "        contents = file.read()\n",
    "    \n",
    "        file.close()\n",
    "        \n",
    "        # Displays the length of the contents of the file\n",
    "        print(\"The length of the file content:\", len(contents))\n",
    "    \n",
    "    # Throws an user defined error message if the file is not found.\n",
    "    except FileNotFoundError:\n",
    "        print(\"Error: File\", file_name, \"not found\")\n",
    "        \n",
    "    "
   ]
  },
  {
   "cell_type": "code",
   "execution_count": 300,
   "id": "b01bd57a",
   "metadata": {},
   "outputs": [
    {
     "name": "stdout",
     "output_type": "stream",
     "text": [
      "The length of the file content: 123\n"
     ]
    }
   ],
   "source": [
    "file_length(\"Filelength.txt\")"
   ]
  },
  {
   "cell_type": "code",
   "execution_count": 301,
   "id": "dfedda43",
   "metadata": {},
   "outputs": [
    {
     "name": "stdout",
     "output_type": "stream",
     "text": [
      "Error: File ilelength.txt not found\n"
     ]
    }
   ],
   "source": [
    "file_length(\"ilelength.txt\")"
   ]
  },
  {
   "cell_type": "markdown",
   "id": "531d6b3a",
   "metadata": {},
   "source": [
    "<br><br>"
   ]
  },
  {
   "cell_type": "markdown",
   "id": "fa205387",
   "metadata": {},
   "source": [
    "# Q.3\n"
   ]
  },
  {
   "cell_type": "code",
   "execution_count": 302,
   "id": "62e75d14",
   "metadata": {},
   "outputs": [],
   "source": [
    "class Marsupial:\n",
    "    # Method to initialize an empty pouch as a list\n",
    "    def __init__(self):\n",
    "        self.pouch = []\n",
    "        \n",
    "    # Method that adds elements into the pouch list\n",
    "    def put_in_pouch(self, element):\n",
    "        self.pouch.append(element)\n",
    "    \n",
    "    # Method that returns the elements within the list\n",
    "    def pouch_contents(self):\n",
    "        return self.pouch"
   ]
  },
  {
   "cell_type": "code",
   "execution_count": 303,
   "id": "3cc7c35f",
   "metadata": {},
   "outputs": [
    {
     "name": "stdout",
     "output_type": "stream",
     "text": [
      "['doll', 'firetruck', 'kitten']\n"
     ]
    }
   ],
   "source": [
    "m = Marsupial()\n",
    "\n",
    "m.put_in_pouch('doll')\n",
    "m.put_in_pouch('firetruck')\n",
    "m.put_in_pouch('kitten')\n",
    "\n",
    "print(m.pouch_contents())"
   ]
  },
  {
   "cell_type": "markdown",
   "id": "764917c5",
   "metadata": {},
   "source": [
    "<br>"
   ]
  },
  {
   "cell_type": "code",
   "execution_count": 304,
   "id": "c88845c4",
   "metadata": {},
   "outputs": [],
   "source": [
    "# Method that inherits all attributes and methods of Marsupial\n",
    "class Kangaroo(Marsupial):\n",
    "    # Method that accept coordinates 'x' and 'y' and stores in instance variable\n",
    "    def __init__(self, x, y):\n",
    "        super().__init__()\n",
    "        self.x = x\n",
    "        self.y = y\n",
    "        \n",
    "    # Method that updates the kangaroo's coordinates after jump\n",
    "    def jump (self, dx, dy):\n",
    "        self.x = self.x + dx\n",
    "        self.y = self.y + dy\n",
    "        \n",
    "    # Method that overloads the Kangaroo and returns the coordinates with message.\n",
    "    def __str__(self):\n",
    "        answer = \"I am a Kangaroo located at coordinates ({},{})\".format(self.x, self.y)\n",
    "        return answer"
   ]
  },
  {
   "cell_type": "code",
   "execution_count": 305,
   "id": "f92dc1df",
   "metadata": {},
   "outputs": [
    {
     "name": "stdout",
     "output_type": "stream",
     "text": [
      "I am a Kangaroo located at coordinates (0,0)\n"
     ]
    }
   ],
   "source": [
    "k = Kangaroo(0,0)\n",
    "\n",
    "print(k)"
   ]
  },
  {
   "cell_type": "code",
   "execution_count": 306,
   "id": "d4e9352e",
   "metadata": {},
   "outputs": [
    {
     "name": "stdout",
     "output_type": "stream",
     "text": [
      "['doll', 'firetruck', 'kitten']\n",
      "I am a Kangaroo located at coordinates (3,0)\n"
     ]
    }
   ],
   "source": [
    "k.put_in_pouch('doll')\n",
    "k.put_in_pouch('firetruck')\n",
    "k.put_in_pouch('kitten')\n",
    "\n",
    "print(k.pouch_contents())\n",
    "\n",
    "k.jump(1,0)\n",
    "k.jump(1,0)\n",
    "k.jump(1,0)\n",
    "\n",
    "print(k)"
   ]
  },
  {
   "cell_type": "markdown",
   "id": "4920d7a1",
   "metadata": {},
   "source": [
    "<br><br>"
   ]
  },
  {
   "cell_type": "markdown",
   "id": "67740ad8",
   "metadata": {},
   "source": [
    "# Q. 4"
   ]
  },
  {
   "cell_type": "code",
   "execution_count": 307,
   "id": "e4afbd0d",
   "metadata": {},
   "outputs": [],
   "source": [
    "def collatz(x):\n",
    "    # Prints the original value of x\n",
    "    print(x)\n",
    "    \n",
    "    # Checks if the value is 1\n",
    "    if x == 1:\n",
    "        return\n",
    "    \n",
    "    # Checks if the value is even.\n",
    "    elif x % 2 == 0:\n",
    "        # Calls itself recursively with `x // 2` as the result.\n",
    "        result = x // 2\n",
    "        collatz(result)\n",
    "        \n",
    "    # If the value is not even and 1 then considers it odd.\n",
    "    else:\n",
    "        # calls itself recursively with `3 * x + 1` as the result.\n",
    "        result = 3 * x + 1\n",
    "        collatz(result)"
   ]
  },
  {
   "cell_type": "code",
   "execution_count": 308,
   "id": "9f1524ec",
   "metadata": {},
   "outputs": [
    {
     "name": "stdout",
     "output_type": "stream",
     "text": [
      "1\n"
     ]
    }
   ],
   "source": [
    "collatz(1)"
   ]
  },
  {
   "cell_type": "code",
   "execution_count": 309,
   "id": "49d5dacd",
   "metadata": {},
   "outputs": [
    {
     "name": "stdout",
     "output_type": "stream",
     "text": [
      "10\n",
      "5\n",
      "16\n",
      "8\n",
      "4\n",
      "2\n",
      "1\n"
     ]
    }
   ],
   "source": [
    "collatz(10)"
   ]
  },
  {
   "cell_type": "markdown",
   "id": "577a83fa",
   "metadata": {},
   "source": [
    "<br><br>"
   ]
  },
  {
   "cell_type": "markdown",
   "id": "df3966fd",
   "metadata": {},
   "source": [
    "# Q. 5"
   ]
  },
  {
   "cell_type": "code",
   "execution_count": 310,
   "id": "ac4e151e",
   "metadata": {},
   "outputs": [],
   "source": [
    "# function that uses recursion to compute and print the binary representation. \n",
    "def binary(n):\n",
    "    \n",
    "    # Checks if 'n' is less than or equal to 1\n",
    "    if n <= 1:\n",
    "        # Prints the value of 'n' if less than or equal to 1\n",
    "        print(n, end='')\n",
    "        \n",
    "    else:\n",
    "        # Calls the function recursively to compute the binary representation\n",
    "        binary(n // 2)\n",
    "        \n",
    "        # Displays the value of n every time it is called and the value is changed\n",
    "        print(n % 2, end='')"
   ]
  },
  {
   "cell_type": "code",
   "execution_count": 311,
   "id": "c068ce0c",
   "metadata": {},
   "outputs": [
    {
     "name": "stdout",
     "output_type": "stream",
     "text": [
      "0"
     ]
    }
   ],
   "source": [
    "binary(0)"
   ]
  },
  {
   "cell_type": "code",
   "execution_count": 312,
   "id": "1814669d",
   "metadata": {},
   "outputs": [
    {
     "name": "stdout",
     "output_type": "stream",
     "text": [
      "1"
     ]
    }
   ],
   "source": [
    "binary(1)"
   ]
  },
  {
   "cell_type": "code",
   "execution_count": 313,
   "id": "0da7e8c4",
   "metadata": {},
   "outputs": [
    {
     "name": "stdout",
     "output_type": "stream",
     "text": [
      "11"
     ]
    }
   ],
   "source": [
    "binary(3)"
   ]
  },
  {
   "cell_type": "code",
   "execution_count": 314,
   "id": "228c237e",
   "metadata": {},
   "outputs": [
    {
     "name": "stdout",
     "output_type": "stream",
     "text": [
      "1001"
     ]
    }
   ],
   "source": [
    "binary(9)"
   ]
  },
  {
   "cell_type": "markdown",
   "id": "741b9fee",
   "metadata": {},
   "source": [
    "<br><br>"
   ]
  },
  {
   "cell_type": "markdown",
   "id": "e0bea206",
   "metadata": {},
   "source": [
    "#  Q 6"
   ]
  },
  {
   "cell_type": "code",
   "execution_count": 315,
   "id": "8ae128d3",
   "metadata": {},
   "outputs": [],
   "source": [
    "# Imports the HTML Parser\n",
    "from html.parser import HTMLParser\n",
    "\n",
    "class HeadingParser(HTMLParser):\n",
    "    def __init__(self):\n",
    "        super().__init__()\n",
    "        \n",
    "        # A new list to store the extracted headings from file\n",
    "        self.headings = []  \n",
    "        \n",
    "        # Variable that stores current indentation level \n",
    "        self.indentation = 0  \n",
    "    \n",
    "    def handle_starttag(self, tag, attrs):\n",
    "        # Checks if the tag is a heading tag like h1/h2\n",
    "        if tag.startswith('h'): \n",
    "            try:\n",
    "                 # Calculates the indentation level based on the heading level\n",
    "                self.indentation = int(tag[1:]) - 1 \n",
    "                \n",
    "            except ValueError:\n",
    "                # If error is encountered in converting the tag level to an integer, sets indentation to -1\n",
    "                self.indentation = -1  \n",
    "    \n",
    "    def handle_data(self, data):\n",
    "        # Checks if if a valid indentation level is set\n",
    "        if self.indentation >= 0:  \n",
    "            # Adds the heading text with indentation to the list\n",
    "            self.headings.append('  ' * self.indentation + data.strip())  \n",
    "    \n",
    "    def print_headings(self):\n",
    "        for heading in self.headings:\n",
    "            # Displays each heading in the list\n",
    "            print(heading)  \n"
   ]
  },
  {
   "cell_type": "code",
   "execution_count": 316,
   "id": "ebf73497",
   "metadata": {},
   "outputs": [
    {
     "name": "stdout",
     "output_type": "stream",
     "text": [
      "\n",
      "W3C Mission\n",
      "\n",
      "  Principles\n",
      "  \n",
      "  \n"
     ]
    }
   ],
   "source": [
    "# Opens then reads the file contents and stores it in a variable before closing\n",
    "file = open(\"w3c.txt\")\n",
    "content = file.read()\n",
    "file.close()\n",
    "\n",
    "# Calls the HeadingParser Class and feeds the file contents\n",
    "hp = HeadingParser()\n",
    "hp.feed(content)\n",
    "\n",
    "# Displays the headings with proper indentation \n",
    "hp.print_headings()\n"
   ]
  },
  {
   "cell_type": "markdown",
   "id": "7440e88d",
   "metadata": {},
   "source": [
    "<br><br>"
   ]
  },
  {
   "cell_type": "markdown",
   "id": "21863da4",
   "metadata": {},
   "source": [
    "# Q. 7"
   ]
  },
  {
   "cell_type": "code",
   "execution_count": 317,
   "id": "4627ec56",
   "metadata": {},
   "outputs": [],
   "source": [
    "from urllib.parse import urljoin\n",
    "from urllib.request import urlopen\n",
    "from html.parser import HTMLParser\n",
    "\n",
    "def webdir(url, depth, indent):\n",
    "    # Checks if the depth is less than 0, if maximum depth has been reached\n",
    "    if depth < 0:\n",
    "        return\n",
    "\n",
    "    try:\n",
    "        # Opens the URL and reads its contents\n",
    "        url_response = urlopen(url)\n",
    "        contents = url_response.read().decode()\n",
    "\n",
    "        # Displays the current URL with necessary indentations\n",
    "        print(' ' * indent + url)\n",
    "\n",
    "        # Creates an instance of WebPageParser to parse the contents of the webpage\n",
    "        parser = WebPageParser()\n",
    "        parser.feed(contents)\n",
    "\n",
    "        # Iterates over each link that is found by the parser\n",
    "        for link in parser.links:\n",
    "            \n",
    "            # Joins the relative link with the base URL to get the absolute URL\n",
    "            absolute_url = urljoin(url, link)\n",
    "            \n",
    "            # Recursively calls webdir() for the next web page with different depth and indent value\n",
    "            webdir(absolute_url, depth - 1, indent + 4)\n",
    "\n",
    "    except Exception as e:\n",
    "        # Handles exceptions if occurs and print an error message\n",
    "        print('Error:', e)\n",
    "\n",
    "class WebPageParser(HTMLParser):\n",
    "    def __init__(self):\n",
    "        super().__init__()\n",
    "        self.links = []\n",
    "\n",
    "    def handle_starttag(self, tag, attributes):\n",
    "        if tag == 'a':\n",
    "            for attrs in attributes:\n",
    "                if attrs[0] == 'href':\n",
    "                    # Adds the href attribute value to the links list\n",
    "                    self.links.append(attrs[1])\n"
   ]
  },
  {
   "cell_type": "code",
   "execution_count": 318,
   "id": "2974d5bc",
   "metadata": {},
   "outputs": [
    {
     "name": "stdout",
     "output_type": "stream",
     "text": [
      "https://reed.cs.depaul.edu/lperkovic/csc242/homeworks/Homework4.html\n",
      "    https://reed.cs.depaul.edu/lperkovic/csc242/homeworks/homework4.py\n",
      "    https://reed.cs.depaul.edu/lperkovic/csc242/homeworks/increment.py\n",
      "    https://reed.cs.depaul.edu/lperkovic/csc242/homeworks/bmi.py\n",
      "    https://d2l.depaul.edu/\n",
      "    https://reed.cs.depaul.edu/lperkovic/csc242/homeworks/increment.py\n",
      "    https://reed.cs.depaul.edu/lperkovic/csc242/homeworks/bmi.py\n"
     ]
    }
   ],
   "source": [
    "webdir('https://reed.cs.depaul.edu/lperkovic/csc242/homeworks/Homework4.html', 2, 0)"
   ]
  },
  {
   "cell_type": "markdown",
   "id": "0d394c42",
   "metadata": {},
   "source": [
    "<br><br>"
   ]
  },
  {
   "cell_type": "markdown",
   "id": "5b710153",
   "metadata": {},
   "source": [
    "# Q. 8"
   ]
  },
  {
   "cell_type": "markdown",
   "id": "c7bd42fc",
   "metadata": {},
   "source": [
    "<h4> All the temperature data </h4>\n",
    "SELECT temperature\n",
    "FROM weather_table;"
   ]
  },
  {
   "cell_type": "markdown",
   "id": "0d22141f",
   "metadata": {},
   "source": [
    "<h4> All the cities, but without repetition. </h4>\n",
    "SELECT DISTINCT city\n",
    "FROM weather_table;"
   ]
  },
  {
   "cell_type": "markdown",
   "id": "1a8f48dd",
   "metadata": {},
   "source": [
    "<h4> All the records for India</h4>\n",
    "SELECT *\n",
    "FROM weather_table\n",
    "WHERE country = 'India';"
   ]
  },
  {
   "cell_type": "markdown",
   "id": "6d2937e4",
   "metadata": {},
   "source": [
    "<h4> All the Fall records.</h4>\n",
    "SELECT *\n",
    "FROM weather_table\n",
    "WHERE season = 'Fall';"
   ]
  },
  {
   "cell_type": "markdown",
   "id": "6a12d78c",
   "metadata": {},
   "source": [
    "<h4> The city, country, and season for which the average rainfall is between 200 and 400 millimeters </h4>\n",
    "SELECT city, country, season\n",
    "FROM weather_table\n",
    "WHERE rainfall BETWEEN 200 AND 400;"
   ]
  },
  {
   "cell_type": "markdown",
   "id": "945be6b7",
   "metadata": {},
   "source": [
    "<h4> The city and country for which the average Fall temperature is above 20 degrees, in increasing temperature order. </h4>\n",
    "SELECT city, country\n",
    "FROM weather_table\n",
    "WHERE season = 'Fall'\n",
    "GROUP BY city, country\n",
    "HAVING AVG(temperature) > 20\n",
    "ORDER BY AVG(temperature);"
   ]
  },
  {
   "cell_type": "markdown",
   "id": "acab8a2a",
   "metadata": {},
   "source": [
    "<h4> The total annual rainfall for Cairo. </h4>\n",
    "SELECT SUM(rainfall) AS Total_Rainfall\n",
    "FROM weather_table\n",
    "WHERE city = 'Cairo';"
   ]
  },
  {
   "cell_type": "markdown",
   "id": "7df6d0f3",
   "metadata": {},
   "source": [
    "<h4> The total rainfall for each season. </h4>\n",
    "SELECT season, SUM(rainfall) AS Total_Rainfall\n",
    "FROM weather_table\n",
    "GROUP BY season;"
   ]
  },
  {
   "cell_type": "markdown",
   "id": "2d1c7b5a",
   "metadata": {},
   "source": [
    "<br><br>"
   ]
  },
  {
   "cell_type": "markdown",
   "id": "3e2366ca",
   "metadata": {},
   "source": [
    "#  Q 9"
   ]
  },
  {
   "cell_type": "code",
   "execution_count": 319,
   "id": "2c039c1a",
   "metadata": {},
   "outputs": [],
   "source": [
    "# Defines the list of words\n",
    "words = ['The', 'quick', 'brown', 'fox', 'jumps', 'over', 'the', 'lazy', 'dog']"
   ]
  },
  {
   "cell_type": "code",
   "execution_count": 320,
   "id": "75b1c6f9",
   "metadata": {},
   "outputs": [
    {
     "name": "stdout",
     "output_type": "stream",
     "text": [
      "['THE', 'QUICK', 'BROWN', 'FOX', 'JUMPS', 'OVER', 'THE', 'LAZY', 'DOG']\n"
     ]
    }
   ],
   "source": [
    "# Defines a new list to store the upper case of the words\n",
    "uppercase_words = []\n",
    "\n",
    "# Selects each word from list and appends to the new list after changing to upper case\n",
    "for word in words:\n",
    "    uppercase_words.append(word.upper())\n",
    "\n",
    "# Displays the list with words in upper case\n",
    "print(uppercase_words)"
   ]
  },
  {
   "cell_type": "code",
   "execution_count": 321,
   "id": "4c85fff4",
   "metadata": {},
   "outputs": [
    {
     "name": "stdout",
     "output_type": "stream",
     "text": [
      "['the', 'quick', 'brown', 'fox', 'jumps', 'over', 'the', 'lazy', 'dog']\n"
     ]
    }
   ],
   "source": [
    "# Defines a new list to store the lower case of the words\n",
    "lowercase_words = []\n",
    "\n",
    "# Selects each word from list and appends to the new list after changing to lower case\n",
    "for word in words:\n",
    "    lowercase_words.append(word.lower())\n",
    "\n",
    "# Displays the list with words in lower case\n",
    "print(lowercase_words)"
   ]
  },
  {
   "cell_type": "code",
   "execution_count": 322,
   "id": "10824a01",
   "metadata": {},
   "outputs": [
    {
     "name": "stdout",
     "output_type": "stream",
     "text": [
      "[3, 5, 5, 3, 5, 4, 3, 4, 3]\n"
     ]
    }
   ],
   "source": [
    "# Defines a new list to store the length of the words\n",
    "word_length = []\n",
    "\n",
    "# Selects each word from list and appends the lenght of them to the new list \n",
    "for word in words:\n",
    "    word_length.append(len(word))\n",
    "\n",
    "# Displays the list with length of each word\n",
    "print(word_length)"
   ]
  },
  {
   "cell_type": "code",
   "execution_count": 323,
   "id": "179eb639",
   "metadata": {},
   "outputs": [
    {
     "name": "stdout",
     "output_type": "stream",
     "text": [
      "[['THE', 'the', 3], ['QUICK', 'quick', 5], ['BROWN', 'brown', 5], ['FOX', 'fox', 3], ['JUMPS', 'jumps', 5], ['OVER', 'over', 4], ['THE', 'the', 3], ['LAZY', 'lazy', 4], ['DOG', 'dog', 3]]\n"
     ]
    }
   ],
   "source": [
    "# Selects each word and appends its details as list in the new list inside the word details list.\n",
    "word_details = [[word.upper(), word.lower(), len(word)] for word in words]\n",
    "\n",
    "# Displays the list with details of the words\n",
    "print(word_details)"
   ]
  },
  {
   "cell_type": "code",
   "execution_count": 324,
   "id": "d467639f",
   "metadata": {},
   "outputs": [
    {
     "name": "stdout",
     "output_type": "stream",
     "text": [
      "['quick', 'brown', 'jumps', 'over', 'lazy']\n"
     ]
    }
   ],
   "source": [
    "# Defines a new list to store the words whose length is more than or equal to 4\n",
    "long_words = []\n",
    "\n",
    "# Selects each word from list and appends the longer words to the new list\n",
    "for word in words:\n",
    "    # Checks the length of each word in the word list\n",
    "    if len(word) >= 4:\n",
    "        long_words.append(word)\n",
    "\n",
    "# Displays the list with long words\n",
    "print(long_words)"
   ]
  },
  {
   "cell_type": "markdown",
   "id": "ec36cab2",
   "metadata": {},
   "source": [
    "<br><br>"
   ]
  }
 ],
 "metadata": {
  "kernelspec": {
   "display_name": "Python 3 (ipykernel)",
   "language": "python",
   "name": "python3"
  },
  "language_info": {
   "codemirror_mode": {
    "name": "ipython",
    "version": 3
   },
   "file_extension": ".py",
   "mimetype": "text/x-python",
   "name": "python",
   "nbconvert_exporter": "python",
   "pygments_lexer": "ipython3",
   "version": "3.11.4"
  }
 },
 "nbformat": 4,
 "nbformat_minor": 5
}
